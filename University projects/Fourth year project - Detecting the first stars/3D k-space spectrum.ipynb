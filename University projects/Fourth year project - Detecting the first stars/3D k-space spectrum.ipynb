{
 "cells": [
  {
   "cell_type": "code",
   "execution_count": 120,
   "id": "05c90442-dc8b-48c8-86bf-ccbc0f86fdb3",
   "metadata": {},
   "outputs": [],
   "source": [
    "import numpy as np\n",
    "import tools21cm as t2c\n",
    "from astropy.io import fits\n",
    "import matplotlib.pyplot as plt\n",
    "from mpl_toolkits.mplot3d import Axes3D"
   ]
  },
  {
   "cell_type": "code",
   "execution_count": 121,
   "id": "ef0d9b8c-451e-41a5-a20b-91bdf53ea2f6",
   "metadata": {},
   "outputs": [],
   "source": [
    "in_path_fg = \"fits_files/\"\n",
    "in_path_cs = \"Boxes/\"\n",
    "\n",
    "output_path = \"Results/\"\n",
    "fname_all = \"test_filename\"\n",
    "\n",
    "fname_foreground = \"new_fg_all\"\n",
    "fname_cs = \"test\"\n",
    "\n",
    "\n",
    "fname_foreground = \"fg_all\"\n",
    "fname_cs = \"test\"\n",
    "\n",
    "indata_fg = fits.getdata(in_path_fg+fname_foreground+'.fits').T\n",
    "indata_cs = fits.getdata(in_path_cs+fname_cs+'.fits')/1000\n",
    "noise = fits.getdata('fits_files/Noise_10000.fits').T\n",
    "exgal = fits.getdata(in_path_fg + 'egfg_max=24k.fits').T\n",
    "free_free =  fits.getdata(in_path_fg + 'ff_test.fits').T\n",
    "syn =  fits.getdata(in_path_fg + 'syn_test.fits').T\n",
    "\n",
    "no_sl = 342\n",
    "\n",
    "data = indata_fg"
   ]
  },
  {
   "cell_type": "code",
   "execution_count": 122,
   "id": "27a50a9d-5613-4f90-a9b3-1cf324b04f96",
   "metadata": {},
   "outputs": [],
   "source": [
    "ft , k_comp , k = t2c.fft_nd(data, box_dims= 128, verbose=False)\n",
    "array_shape = np.shape(ft)"
   ]
  },
  {
   "cell_type": "code",
   "execution_count": 123,
   "id": "c2ed173d-37cc-4af4-b892-511337c1ffc8",
   "metadata": {},
   "outputs": [],
   "source": [
    "b123 = t2c.bispectrum_fast(ft,\\\n",
    "                    k1 = 10, k2 =10, k3 =10,\\\n",
    "                    dk1 =10, dk2 =10, dk3 = 10,\\\n",
    "                    box_dims=128,\\\n",
    "                    k_mag= k)"
   ]
  },
  {
   "cell_type": "code",
   "execution_count": 99,
   "id": "3f7219a4-4151-4e36-903c-610e33a6b9d6",
   "metadata": {},
   "outputs": [
    {
     "name": "stdout",
     "output_type": "stream",
     "text": [
      "-5.01592307784919e-12\n"
     ]
    }
   ],
   "source": [
    "print(b123)"
   ]
  },
  {
   "cell_type": "code",
   "execution_count": 103,
   "id": "cea1ba22-16d7-4a22-87f1-b8a90a64f302",
   "metadata": {},
   "outputs": [],
   "source": [
    "input_array_nd =ft"
   ]
  },
  {
   "cell_type": "code",
   "execution_count": 104,
   "id": "da43a2f8-ba09-4e98-9ac4-00a3bbf5cd25",
   "metadata": {},
   "outputs": [
    {
     "name": "stdout",
     "output_type": "stream",
     "text": [
      "Computing bispectrum with k1,k2=1.00,1.00 /Mpc...\n",
      "FFT of data done\n"
     ]
    },
    {
     "name": "stderr",
     "output_type": "stream",
     "text": [
      "100%|███████████████████████████████████████████| 10/10 [00:07<00:00,  1.34it/s]"
     ]
    },
    {
     "name": "stdout",
     "output_type": "stream",
     "text": [
      "...done | Runtime: 7.804 s\n"
     ]
    },
    {
     "name": "stderr",
     "output_type": "stream",
     "text": [
      "\n"
     ]
    }
   ],
   "source": [
    "name1 = t2c.bispectrum_k1k2(input_array_nd, k1 =1, k2 =1,\\\n",
    "                    dk=0.2, n_bins=10,\\\n",
    "                    box_dims= 128)"
   ]
  },
  {
   "cell_type": "code",
   "execution_count": 109,
   "id": "d24a64fe-0758-40fd-b1b7-72c4a2224b10",
   "metadata": {},
   "outputs": [],
   "source": [
    "name2 = list(auisgf.keys())\n",
    "print(name2)"
   ]
  },
  {
   "cell_type": "code",
   "execution_count": null,
   "id": "ab5eb844-0db7-405a-8c76-35e267b63fe0",
   "metadata": {},
   "outputs": [],
   "source": [
    "print(name2['theta'])"
   ]
  },
  {
   "cell_type": "code",
   "execution_count": 113,
   "id": "3c6642b9-bfaa-4191-bb8f-4c19040eac58",
   "metadata": {},
   "outputs": [
    {
     "name": "stdout",
     "output_type": "stream",
     "text": [
      "Computing bispectrum with k1=k2=k3...\n",
      "FFT of data done\n"
     ]
    },
    {
     "name": "stderr",
     "output_type": "stream",
     "text": [
      "100%|███████████████████████████████████████████| 10/10 [00:03<00:00,  2.60it/s]"
     ]
    },
    {
     "name": "stdout",
     "output_type": "stream",
     "text": [
      "...done | Runtime: 4.153 s\n"
     ]
    },
    {
     "name": "stderr",
     "output_type": "stream",
     "text": [
      "\n"
     ]
    }
   ],
   "source": [
    "name3 = t2c.bispectrum_k(input_array_nd, dk=0.2, n_bins=10,box_dims=128)\n",
    "print(list(name1.keys()))"
   ]
  },
  {
   "cell_type": "code",
   "execution_count": null,
   "id": "ae19cc49-3937-45ac-93f3-8652d45d3ccc",
   "metadata": {},
   "outputs": [],
   "source": [
    "B = name1['B']\n",
    "k = name1['k']"
   ]
  }
 ],
 "metadata": {
  "kernelspec": {
   "display_name": "Python 3 (ipykernel)",
   "language": "python",
   "name": "python3"
  },
  "language_info": {
   "codemirror_mode": {
    "name": "ipython",
    "version": 3
   },
   "file_extension": ".py",
   "mimetype": "text/x-python",
   "name": "python",
   "nbconvert_exporter": "python",
   "pygments_lexer": "ipython3",
   "version": "3.9.12"
  }
 },
 "nbformat": 4,
 "nbformat_minor": 5
}
